{
 "cells": [
  {
   "cell_type": "code",
   "execution_count": null,
   "metadata": {},
   "outputs": [],
   "source": [
    "import pandas as pd\n",
    "import matplotlib.pyplot as plt\n"
   ]
  },
  {
   "cell_type": "code",
   "execution_count": null,
   "metadata": {},
   "outputs": [],
   "source": [
    "deathsByCounty = pd.read_csv(\"Datasets\\Provisional_COVID-19_Death_Counts_in_the_United_States_by_County.csv\")"
   ]
  },
  {
   "cell_type": "code",
   "execution_count": null,
   "metadata": {},
   "outputs": [],
   "source": [
    "#drop rows that have no covid deaths\n",
    "deathsByCounty.dropna(subset=['Deaths involving COVID-19'], inplace=True)\n",
    "deathsByCounty"
   ]
  },
  {
   "cell_type": "code",
   "execution_count": null,
   "metadata": {},
   "outputs": [],
   "source": [
    "deathsByState = deathsByCounty.drop(['County name', 'FIPS County Code'], axis=1)\n",
    "deathsByState"
   ]
  },
  {
   "cell_type": "code",
   "execution_count": null,
   "metadata": {},
   "outputs": [],
   "source": [
    "deathsByState = deathsByState.groupby(['State', 'Urban Rural Code'])['Deaths involving COVID-19'].sum()\n",
    "deathsByState"
   ]
  },
  {
   "cell_type": "code",
   "execution_count": null,
   "metadata": {},
   "outputs": [],
   "source": [
    "deathsByState.to_csv(\"Datasets\\Deaths_By_State\")\n"
   ]
  },
  {
   "cell_type": "code",
   "execution_count": null,
   "metadata": {},
   "outputs": [],
   "source": [
    "largeCentralDF = pd.read_csv(\"Datasets\\Deaths_By_State\")\n",
    "largeCentralDF\n",
    "\n",
    "noncoreDF = pd.read_csv(\"Datasets\\Deaths_By_State\")"
   ]
  },
  {
   "cell_type": "code",
   "execution_count": null,
   "metadata": {},
   "outputs": [],
   "source": [
    "largeCentralDF.drop(largeCentralDF.index[largeCentralDF['Urban Rural Code'] == 'Large fringe metro'], inplace=True)\n",
    "largeCentralDF.drop(largeCentralDF.index[largeCentralDF['Urban Rural Code'] == 'Medium metro'], inplace=True)\n",
    "largeCentralDF.drop(largeCentralDF.index[largeCentralDF['Urban Rural Code'] == 'Small metro'], inplace=True)\n",
    "largeCentralDF.drop(largeCentralDF.index[largeCentralDF['Urban Rural Code'] == 'Micropolitan'], inplace=True)\n",
    "largeCentralDF.drop(largeCentralDF.index[largeCentralDF['Urban Rural Code'] == 'Noncore'], inplace=True)\n",
    "largeCentralDF\n",
    "newDF = pd.DataFrame (\n",
    "    {\n",
    "        \"State\" : [],\n",
    "        \"Large Central Metro\" : [],\n",
    "        \"Deaths involving COVID-19\" : []\n",
    "    }\n",
    ")\n",
    "\n",
    "newDF['State'] = largeCentralDF['State']\n",
    "newDF['Large Central Metro'] = largeCentralDF['Urban Rural Code']\n",
    "newDF['Deaths involving COVID-19'] = largeCentralDF['Deaths involving COVID-19']\n",
    "newDF\n",
    "# nonCoreDF = df\n",
    "# nonCoreDF\n"
   ]
  },
  {
   "cell_type": "code",
   "execution_count": null,
   "metadata": {},
   "outputs": [],
   "source": [
    "noncoreDF.drop(noncoreDF.index[noncoreDF['Urban Rural Code'] == 'Large central metro'], inplace=True)\n",
    "noncoreDF.drop(noncoreDF.index[noncoreDF['Urban Rural Code'] == 'Large fringe metro'], inplace=True)\n",
    "noncoreDF.drop(noncoreDF.index[noncoreDF['Urban Rural Code'] == 'Medium metro'], inplace=True)\n",
    "noncoreDF.drop(noncoreDF.index[noncoreDF['Urban Rural Code'] == 'Small metro'], inplace=True)\n",
    "noncoreDF.drop(noncoreDF.index[noncoreDF['Urban Rural Code'] == 'Micropolitan'], inplace=True)\n",
    "\n",
    "newDF2 = pd.DataFrame (\n",
    "    {\n",
    "        \"State\" : [],\n",
    "        \"Noncore\" : [],\n",
    "        \"Deaths involving COVID-19\" : []\n",
    "    }\n",
    ")\n",
    "\n",
    "newDF2['State'] = noncoreDF['State']\n",
    "newDF2['Noncore'] = noncoreDF['Urban Rural Code']\n",
    "newDF2['Deaths involving COVID-19'] = noncoreDF['Deaths involving COVID-19']\n",
    "newDF2"
   ]
  },
  {
   "cell_type": "code",
   "execution_count": null,
   "metadata": {},
   "outputs": [],
   "source": [
    "newCombined = pd.merge(newDF, newDF2, on=\"State\")\n",
    "newCombined.rename(columns={'Deaths involving COVID-19_x' : 'Large Central Metro Deaths', \n",
    "'Deaths involving COVID-19_y' : 'Noncore Deaths'}, inplace=True)\n",
    "newCombined"
   ]
  },
  {
   "cell_type": "code",
   "execution_count": null,
   "metadata": {},
   "outputs": [],
   "source": [
    "newCombined['Large Central Metro Deaths'] = newCombined['Large Central Metro Deaths'] / newCombined['Large Central Metro Deaths'].abs().max()\n",
    "newCombined['Noncore Deaths'] = newCombined['Noncore Deaths'] / newCombined['Noncore Deaths'].abs().max()\n",
    "newCombined"
   ]
  },
  {
   "cell_type": "code",
   "execution_count": null,
   "metadata": {},
   "outputs": [],
   "source": [
    "newCombined.plot(kind=\"bar\", stacked=False, x='State')\n",
    "plt.title('COVID-19 Deaths per State')\n",
    "plt.ylabel('Deaths')\n",
    "plt.legend(title=\"Urban Rural Code\")\n",
    "plt.show()\n",
    "\n"
   ]
  },
  {
   "cell_type": "code",
   "execution_count": null,
   "metadata": {},
   "outputs": [],
   "source": [
    "vaccinesPerStateTotal = pd.read_csv('Datasets\\COVID-19_Vaccinations_in_the_United_States_Jurisdiction.csv')\n"
   ]
  },
  {
   "cell_type": "code",
   "execution_count": null,
   "metadata": {},
   "outputs": [],
   "source": [
    "vaccinesPerState = pd.DataFrame ({\n",
    "    \"State\": [],\n",
    "    \"Vaccines Administered\" : []\n",
    "})\n",
    "\n",
    "vaccinesPerState['State'] = vaccinesPerStateTotal['Location']\n",
    "vaccinesPerState['Vaccines Administered'] = vaccinesPerStateTotal['Administered']\n",
    "vaccinesPerState"
   ]
  },
  {
   "cell_type": "code",
   "execution_count": null,
   "metadata": {},
   "outputs": [],
   "source": [
    "vaccinesPerState = vaccinesPerState.groupby(['State'])['Vaccines Administered'].sum()\n",
    "vaccinesPerState.to_csv(\"Datasets\\Vaccines_Per_State\")"
   ]
  },
  {
   "cell_type": "code",
   "execution_count": null,
   "metadata": {},
   "outputs": [],
   "source": [
    "totalVaccines = pd.read_csv(\"Datasets\\Vaccines_Per_State\")\n",
    "totalVaccines"
   ]
  },
  {
   "cell_type": "code",
   "execution_count": null,
   "metadata": {},
   "outputs": [],
   "source": [
    "totalVaccines['Vaccines Administered'] = totalVaccines['Vaccines Administered'] / totalVaccines['Vaccines Administered'].abs().max()\n",
    "totalVaccines"
   ]
  },
  {
   "cell_type": "code",
   "execution_count": null,
   "metadata": {},
   "outputs": [],
   "source": [
    "stateVaccines = pd.DataFrame ({\n",
    "    'State' : [],\n",
    "    'Vaccines Administered' : []\n",
    "})\n",
    "stateVaccines[\"State\"] = totalVaccines.index[totalVaccines[\"State\"] == \"TX\"]\n",
    "stateVaccines"
   ]
  },
  {
   "cell_type": "code",
   "execution_count": null,
   "metadata": {},
   "outputs": [],
   "source": [
    "totalVaccines.plot(kind=\"bar\", stacked=False, x='State')\n",
    "plt.title('COVID-19 Vaccines per State')\n",
    "plt.ylabel('Total Vaccinations')\n",
    "plt.rcParams[\"figure.figsize\"] = [7.50, 3.50]\n",
    "plt.rcParams[\"figure.autolayout\"] = True\n",
    "plt.show()\n",
    "\n"
   ]
  }
 ],
 "metadata": {
  "kernelspec": {
   "display_name": "Python 3.9.7 64-bit",
   "language": "python",
   "name": "python3"
  },
  "language_info": {
   "codemirror_mode": {
    "name": "ipython",
    "version": 3
   },
   "file_extension": ".py",
   "mimetype": "text/x-python",
   "name": "python",
   "nbconvert_exporter": "python",
   "pygments_lexer": "ipython3",
   "version": "3.9.7 (tags/v3.9.7:1016ef3, Aug 30 2021, 20:19:38) [MSC v.1929 64 bit (AMD64)]"
  },
  "orig_nbformat": 4,
  "vscode": {
   "interpreter": {
    "hash": "81794d4967e6c3204c66dcd87b604927b115b27c00565d3d43f05ba2f3a2cb0d"
   }
  }
 },
 "nbformat": 4,
 "nbformat_minor": 2
}
