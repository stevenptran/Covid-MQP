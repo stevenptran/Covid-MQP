{
 "cells": [
  {
   "cell_type": "code",
   "execution_count": 6,
   "metadata": {},
   "outputs": [],
   "source": [
    "import pandas as pd\n",
    "import matplotlib.pyplot as plt\n",
    "import numpy as npy\n",
    "import datetime as dt\n",
    "import matplotlib.dates as mdates\n",
    "from pathlib import Path  \n",
    "\n",
    "Provisional_COVID_Deaths = pd.read_csv(\"Datasets/Provisional_COVID-19_Deaths_by_Sex_and_Age.csv\")\n",
    "prov = pd.DataFrame(Provisional_COVID_Deaths)\n",
    "#print(prov)\n",
    "\n"
   ]
  },
  {
   "cell_type": "code",
   "execution_count": 7,
   "metadata": {},
   "outputs": [],
   "source": [
    "selected_cols = ['Start Date', 'End Date', 'Group', 'Year', 'State', 'Sex', 'Age Group', 'COVID-19 Deaths']\n",
    "prov_selected = prov[selected_cols]\n",
    "#print(prov_selected)"
   ]
  },
  {
   "cell_type": "code",
   "execution_count": 8,
   "metadata": {},
   "outputs": [
    {
     "name": "stdout",
     "output_type": "stream",
     "text": [
      "       Start Date    End Date     Group    Year          State        Sex  \\\n",
      "0      01/01/2020  03/04/2023  By Total     NaN  United States  All Sexes   \n",
      "1      01/01/2020  03/04/2023  By Total     NaN  United States  All Sexes   \n",
      "2      01/01/2020  03/04/2023  By Total     NaN  United States  All Sexes   \n",
      "3      01/01/2020  03/04/2023  By Total     NaN  United States  All Sexes   \n",
      "4      01/01/2020  03/04/2023  By Total     NaN  United States  All Sexes   \n",
      "...           ...         ...       ...     ...            ...        ...   \n",
      "15720  03/01/2023  03/04/2023  By Month  2023.0  United States  All Sexes   \n",
      "15721  03/01/2023  03/04/2023  By Month  2023.0  United States  All Sexes   \n",
      "15722  03/01/2023  03/04/2023  By Month  2023.0  United States  All Sexes   \n",
      "15723  03/01/2023  03/04/2023  By Month  2023.0  United States  All Sexes   \n",
      "15724  03/01/2023  03/04/2023  By Month  2023.0  United States  All Sexes   \n",
      "\n",
      "               Age Group  COVID-19 Deaths  \n",
      "0               All Ages        1115931.0  \n",
      "1           Under 1 year            440.0  \n",
      "2             0-17 years           1515.0  \n",
      "3              1-4 years            245.0  \n",
      "4             5-14 years            461.0  \n",
      "...                  ...              ...  \n",
      "15720        50-64 years             18.0  \n",
      "15721        55-64 years             14.0  \n",
      "15722        65-74 years             32.0  \n",
      "15723        75-84 years             70.0  \n",
      "15724  85 years and over             94.0  \n",
      "\n",
      "[748 rows x 8 columns]\n"
     ]
    }
   ],
   "source": [
    "#pd.set_option('display.max_rows', None)\n",
    "all_sex = prov_selected.loc[(prov['Sex'] == 'All Sexes')]\n",
    "US = all_sex.loc[(prov['State'] == 'United States')]\n",
    "print(US)\n",
    "\n",
    "#all_ages = prov_selected.loc[(prov['Sex'] == 'All Sex') & (prov['Age Group'] == 'All Ages')]\n",
    "##print (all_ages)\n",
    "#all_ages = all_ages[['End Week', 'COVID-19 Deaths']]\n",
    "#under_one = prov.loc[(prov['Sex'] == 'All Sex') & (prov['Age Group'] == 'Under 1 year')]\n",
    "#under_one = under_one[['End Week', 'COVID-19 Deaths']]\n",
    "#one_four = prov.loc[(prov['Sex'] == 'All Sex') & (prov['Age Group'] == '1-4 Years')]\n",
    "#one_four = one_four[['End Week', 'COVID-19 Deaths']]\n",
    "#five_fourteen = prov.loc[(prov['Sex'] == 'All Sex') & (prov['Age Group'] == '5-14 Years')]\n",
    "#five_fourteen = five_fourteen[['End Week', 'COVID-19 Deaths']]\n",
    "#fifteen_twentyfour = prov.loc[(prov['Sex'] == 'All Sex') & (prov['Age Group'] == '15-24 Years')]\n",
    "#fifteen_twentyfour = fifteen_twentyfour[['End Week', 'COVID-19 Deaths']]\n",
    "#twentyfive_thirtyfour = prov.loc[(prov['Sex'] == 'All Sex') & (prov['Age Group'] == '25-34 Years')]\n",
    "#twentyfive_thirtyfour = twentyfive_thirtyfour[['End Week', 'COVID-19 Deaths']]\n",
    "#thirtyfive_fourtyfour = prov.loc[(prov['Sex'] == 'All Sex') & (prov['Age Group'] == '35-44 Years')]\n",
    "#thirtyfive_fourtyfour = thirtyfive_fourtyfour[['End Week', 'COVID-19 Deaths']]\n",
    "#fourtyfive_fiftyfour = prov.loc[(prov['Sex'] == 'All Sex') & (prov['Age Group'] == '45-54 Years')]\n",
    "#fourtyfive_fiftyfour = fourtyfive_fiftyfour[['End Week', 'COVID-19 Deaths']]\n",
    "#fiftyfive_sixtyfour = prov.loc[(prov['Sex'] == 'All Sex') & (prov['Age Group'] == '55-64 Years')]\n",
    "#fiftyfive_sixtyfour = fiftyfive_sixtyfour[['End Week', 'COVID-19 Deaths']]\n",
    "#sixtyfive_seventyfour = prov.loc[(prov['Sex'] == 'All Sex') & (prov['Age Group'] == '65-74 Years')]\n",
    "#sixtyfive_seventyfour = sixtyfive_seventyfour[['End Week', 'COVID-19 Deaths']]\n",
    "#seventyfive_eightyfour = prov.loc[(prov['Sex'] == 'All Sex') & (prov['Age Group'] == '75-84 Years')]\n",
    "#seventyfive_eightyfour = seventyfive_eightyfour[['End Week', 'COVID-19 Deaths']]\n",
    "#over_eightyfive = prov.loc[(prov['Sex'] == 'All Sex') & (prov['Age Group'] == '85 Years and Older')]\n",
    "#over_eightyfive = over_eightyfive[['End Week', 'COVID-19 Deaths']]\n"
   ]
  },
  {
   "cell_type": "code",
   "execution_count": 9,
   "metadata": {},
   "outputs": [],
   "source": [
    "filepath = Path('Datasets/DeathByAge.csv')  \n",
    "filepath.parent.mkdir(parents=True, exist_ok=True)  \n",
    "US.to_csv(filepath)  "
   ]
  },
  {
   "cell_type": "code",
   "execution_count": 10,
   "metadata": {},
   "outputs": [
    {
     "ename": "NameError",
     "evalue": "name 'five_fourteen' is not defined",
     "output_type": "error",
     "traceback": [
      "\u001b[0;31m---------------------------------------------------------------------------\u001b[0m",
      "\u001b[0;31mNameError\u001b[0m                                 Traceback (most recent call last)",
      "Cell \u001b[0;32mIn[10], line 15\u001b[0m\n\u001b[1;32m      1\u001b[0m \u001b[39m#fig, ax = plt.subplots()\u001b[39;00m\n\u001b[1;32m      2\u001b[0m \u001b[39m#u1dates = mdates.date2num(under_one['End Week'])\u001b[39;00m\n\u001b[1;32m      3\u001b[0m \u001b[39m#u1deaths = under_one['COVID-19 Deaths']\u001b[39;00m\n\u001b[0;32m   (...)\u001b[0m\n\u001b[1;32m     13\u001b[0m \u001b[39m#plt.plot(under_one, under_one['COVID-19 Deaths'], color='red', label='under one')\u001b[39;00m\n\u001b[1;32m     14\u001b[0m \u001b[39m#plt.plot(one4dates, one_four['COVID-19 Deaths'], color='red', label='one to four')\u001b[39;00m\n\u001b[0;32m---> 15\u001b[0m plt\u001b[39m.\u001b[39mplot(five_fourteen[\u001b[39m'\u001b[39m\u001b[39mEnd Week\u001b[39m\u001b[39m'\u001b[39m], five_fourteen[\u001b[39m'\u001b[39m\u001b[39mCOVID-19 Deaths\u001b[39m\u001b[39m'\u001b[39m], color\u001b[39m=\u001b[39m\u001b[39m'\u001b[39m\u001b[39mgreen\u001b[39m\u001b[39m'\u001b[39m, label\u001b[39m=\u001b[39m\u001b[39m'\u001b[39m\u001b[39m5 - 14\u001b[39m\u001b[39m'\u001b[39m)\n\u001b[1;32m     16\u001b[0m plt\u001b[39m.\u001b[39mplot(fifteen_twentyfour[\u001b[39m'\u001b[39m\u001b[39mEnd Week\u001b[39m\u001b[39m'\u001b[39m], fifteen_twentyfour[\u001b[39m'\u001b[39m\u001b[39mCOVID-19 Deaths\u001b[39m\u001b[39m'\u001b[39m], color\u001b[39m=\u001b[39m\u001b[39m'\u001b[39m\u001b[39mblue\u001b[39m\u001b[39m'\u001b[39m, label\u001b[39m=\u001b[39m\u001b[39m'\u001b[39m\u001b[39m15 - 24\u001b[39m\u001b[39m'\u001b[39m)\n\u001b[1;32m     17\u001b[0m plt\u001b[39m.\u001b[39mplot(twentyfive_thirtyfour[\u001b[39m'\u001b[39m\u001b[39mEnd Week\u001b[39m\u001b[39m'\u001b[39m], twentyfive_thirtyfour[\u001b[39m'\u001b[39m\u001b[39mCOVID-19 Deaths\u001b[39m\u001b[39m'\u001b[39m], color\u001b[39m=\u001b[39m\u001b[39m'\u001b[39m\u001b[39mpurple\u001b[39m\u001b[39m'\u001b[39m, label\u001b[39m=\u001b[39m\u001b[39m'\u001b[39m\u001b[39m25 - 34\u001b[39m\u001b[39m'\u001b[39m)\n",
      "\u001b[0;31mNameError\u001b[0m: name 'five_fourteen' is not defined"
     ]
    }
   ],
   "source": [
    "#fig, ax = plt.subplots()\n",
    "#u1dates = mdates.date2num(under_one['End Week'])\n",
    "#u1deaths = under_one['COVID-19 Deaths']\n",
    "#width = npy.diff(u1dates).min()\n",
    "#one4dates = mdates.date2num(one_four['End Week'])\n",
    "#five14dates = mdates.date2num(five_fourteen['End Week'])\n",
    "#ax.bar(u1dates, u1deaths, align='center', width=width)\n",
    "#ax.xaxis_date()\n",
    "#fig.autofmt_xdate()\n",
    "\n",
    "#plt.plot(all_ages['End Week'], all_ages['COVID-19 Deaths'], color='red', marker='o')\n",
    "#plt.plot(u1dates, u1deaths, color='blue', label='under one')\n",
    "#plt.plot(under_one, under_one['COVID-19 Deaths'], color='red', label='under one')\n",
    "#plt.plot(one4dates, one_four['COVID-19 Deaths'], color='red', label='one to four')\n",
    "plt.plot(five_fourteen['End Week'], five_fourteen['COVID-19 Deaths'], color='green', label='5 - 14')\n",
    "plt.plot(fifteen_twentyfour['End Week'], fifteen_twentyfour['COVID-19 Deaths'], color='blue', label='15 - 24')\n",
    "plt.plot(twentyfive_thirtyfour['End Week'], twentyfive_thirtyfour['COVID-19 Deaths'], color='purple', label='25 - 34')\n",
    "plt.plot(thirtyfive_fourtyfour['End Week'], thirtyfive_fourtyfour['COVID-19 Deaths'], color='red', label='35 - 44')\n",
    "#plt.plot(over_eightyfive['End Week'], over_eightyfive['COVID-19 Deaths'], color='red', label='over eightyfive')\n",
    "plt.title('Covid Deaths Over Time')\n",
    "plt.xlabel('Week')\n",
    "plt.ylabel('Deaths')\n",
    "plt.legend()\n",
    "plt.show()"
   ]
  }
 ],
 "metadata": {
  "kernelspec": {
   "display_name": "Python 3",
   "language": "python",
   "name": "python3"
  },
  "language_info": {
   "codemirror_mode": {
    "name": "ipython",
    "version": 3
   },
   "file_extension": ".py",
   "mimetype": "text/x-python",
   "name": "python",
   "nbconvert_exporter": "python",
   "pygments_lexer": "ipython3",
   "version": "3.9.6"
  },
  "orig_nbformat": 4,
  "vscode": {
   "interpreter": {
    "hash": "31f2aee4e71d21fbe5cf8b01ff0e069b9275f58929596ceb00d14d90e3e16cd6"
   }
  }
 },
 "nbformat": 4,
 "nbformat_minor": 2
}
