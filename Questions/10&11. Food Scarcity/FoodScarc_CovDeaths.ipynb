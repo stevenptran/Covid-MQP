{
 "cells": [
  {
   "cell_type": "code",
   "execution_count": 1,
   "metadata": {},
   "outputs": [],
   "source": [
    "import pandas as pd\n",
    "import numpy as npy\n",
    "from pathlib import Path  \n",
    "\n",
    "FoodScarc1 = pd.read_csv(\"Datasets/FoodScarcSurveyWeek1.csv\")\n",
    "FoodScarc52 = pd.read_csv(\"Datasets/FoodScarcSurveyWeek52.csv\")"
   ]
  },
  {
   "cell_type": "code",
   "execution_count": 2,
   "metadata": {},
   "outputs": [],
   "source": [
    "#dropping non state rows and making a new csv\n",
    "FoodScarc1 = FoodScarc1.iloc[5:]\n",
    "FoodScarc1 = FoodScarc1.iloc[:51]\n",
    "FoodScarc1.drop([13], inplace=True)\n",
    "filepath = Path('Datasets/FoodScarc1.csv')  \n",
    "filepath.parent.mkdir(parents=True, exist_ok=True)  \n",
    "FoodScarc1.to_csv(filepath)  \n",
    "\n",
    "FoodScarc52 = FoodScarc52.iloc[5:]\n",
    "FoodScarc52 = FoodScarc52.iloc[:51]\n",
    "FoodScarc52.drop([13], inplace=True)\n",
    "filepath = Path('Datasets/FoodScarc52.csv')  \n",
    "filepath.parent.mkdir(parents=True, exist_ok=True)  \n",
    "FoodScarc52.to_csv(filepath)"
   ]
  }
 ],
 "metadata": {
  "kernelspec": {
   "display_name": "Python 3",
   "language": "python",
   "name": "python3"
  },
  "language_info": {
   "codemirror_mode": {
    "name": "ipython",
    "version": 3
   },
   "file_extension": ".py",
   "mimetype": "text/x-python",
   "name": "python",
   "nbconvert_exporter": "python",
   "pygments_lexer": "ipython3",
   "version": "3.9.6"
  },
  "orig_nbformat": 4,
  "vscode": {
   "interpreter": {
    "hash": "31f2aee4e71d21fbe5cf8b01ff0e069b9275f58929596ceb00d14d90e3e16cd6"
   }
  }
 },
 "nbformat": 4,
 "nbformat_minor": 2
}
