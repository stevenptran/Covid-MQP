{
 "cells": [
  {
   "cell_type": "code",
   "execution_count": null,
   "metadata": {},
   "outputs": [],
   "source": [
    "import pandas as pd\n",
    "import matplotlib.pyplot as plt\n",
    "import numpy as npy\n",
    "\n",
    "excessDeaths = pd.read_csv(\"Datasets/Excess_Deaths_Associated_with_COVID-19.csv\")\n",
    "vaccHesitant = pd.read_csv(\"Datasets/Dataset_11.csv\")"
   ]
  },
  {
   "cell_type": "code",
   "execution_count": null,
   "metadata": {},
   "outputs": [],
   "source": [
    "ed = pd.DataFrame(excessDeaths)[['State', 'Total Excess Estimate']].drop_duplicates()\n",
    "ed['State'] = ed['State'].apply(str.upper)\n",
    "ed = ed.groupby('State')['Total Excess Estimate'].mean()\n",
    "#ed"
   ]
  },
  {
   "cell_type": "code",
   "execution_count": null,
   "metadata": {},
   "outputs": [],
   "source": [
    "vh = vaccHesitant[['State', 'Percent adults fully vaccinated against COVID-19 (as of 6/10/21)']].drop_duplicates()\n",
    "vh.rename(columns= {'Percent adults fully vaccinated against COVID-19 (as of 6/10/21)':'Percent Fully Vaccinated'}, inplace=True)\n",
    "vh = vh.groupby('State')['Percent Fully Vaccinated'].mean()\n",
    "#vh"
   ]
  },
  {
   "cell_type": "code",
   "execution_count": null,
   "metadata": {},
   "outputs": [],
   "source": [
    "ed_vh_combined = pd.merge(ed, vh, on='State')\n",
    "#ed_vh_combined"
   ]
  },
  {
   "cell_type": "code",
   "execution_count": null,
   "metadata": {},
   "outputs": [],
   "source": [
    "X = ed_vh_combined['Total Excess Estimate']\n",
    "Y = ed_vh_combined['Percent Fully Vaccinated']\n",
    "L1 = npy.polyfit(X, Y, 1)\n",
    "L2 = L1[1] + L1[0] * X\n",
    "plt.scatter(X, Y)\n",
    "plt.plot(X, L2, 'r')\n",
    "plt.title('Excess Deaths vs. Percent Fully Vaccinated')\n",
    "plt.xlabel('Total Excess Estimate')\n",
    "plt.ylabel('Percent Fully Vaccinated')\n",
    "plt.show()\n"
   ]
  }
 ],
 "metadata": {
  "kernelspec": {
   "display_name": "Python 3",
   "language": "python",
   "name": "python3"
  },
  "language_info": {
   "codemirror_mode": {
    "name": "ipython",
    "version": 3
   },
   "file_extension": ".py",
   "mimetype": "text/x-python",
   "name": "python",
   "nbconvert_exporter": "python",
   "pygments_lexer": "ipython3",
   "version": "3.9.6 (default, Oct 18 2022, 12:41:40) \n[Clang 14.0.0 (clang-1400.0.29.202)]"
  },
  "orig_nbformat": 4,
  "vscode": {
   "interpreter": {
    "hash": "31f2aee4e71d21fbe5cf8b01ff0e069b9275f58929596ceb00d14d90e3e16cd6"
   }
  }
 },
 "nbformat": 4,
 "nbformat_minor": 2
}
