{
 "cells": [
  {
   "cell_type": "code",
   "execution_count": null,
   "metadata": {},
   "outputs": [],
   "source": [
    "import pandas as pd\n",
    "import matplotlib.pyplot as plt"
   ]
  },
  {
   "cell_type": "code",
   "execution_count": null,
   "metadata": {},
   "outputs": [],
   "source": [
    "deathsByState = pd.read_csv(\"Datasets\\Provisional_COVID-19_Death_Counts_in_the_United_States_by_County.csv\")"
   ]
  },
  {
   "cell_type": "code",
   "execution_count": null,
   "metadata": {},
   "outputs": [],
   "source": [
    "#drop rows that have no covid deaths\n",
    "deathsByState.dropna(subset=['Deaths involving COVID-19'], inplace=True)\n",
    "deathsByState"
   ]
  },
  {
   "cell_type": "code",
   "execution_count": null,
   "metadata": {},
   "outputs": [],
   "source": [
    "#drop unnecessary columns\n",
    "deathsByState.drop(['County name', 'FIPS County Code', 'Footnote', 'Deaths from All Causes'], axis=1, inplace=True)\n",
    "deathsByState"
   ]
  },
  {
   "cell_type": "code",
   "execution_count": null,
   "metadata": {},
   "outputs": [],
   "source": [
    "#group by state and urban rural code and sum deaths\n",
    "deathsByState = deathsByState.groupby(['State', 'Urban Rural Code']).sum()\n",
    "deathsByState"
   ]
  },
  {
   "cell_type": "code",
   "execution_count": null,
   "metadata": {},
   "outputs": [],
   "source": [
    "#convert to dataframe\n",
    "deathsByState = pd.DataFrame(deathsByState)\n",
    "deathsByState"
   ]
  },
  {
   "cell_type": "code",
   "execution_count": null,
   "metadata": {},
   "outputs": [],
   "source": [
    "#normalize data\n",
    "deathsByState['Deaths involving COVID-19'] = deathsByState['Deaths involving COVID-19'] / deathsByState['Deaths involving COVID-19'].sum()\n",
    "deathsByState"
   ]
  },
  {
   "cell_type": "code",
   "execution_count": null,
   "metadata": {},
   "outputs": [],
   "source": [
    "#we range all columns of the dataframe, such that the min is 0 and the max is 1\n",
    "deathsByState = (deathsByState - deathsByState.min()) / (deathsByState.max() - deathsByState.min())\n",
    "deathsByState"
   ]
  },
  {
   "cell_type": "code",
   "execution_count": null,
   "metadata": {},
   "outputs": [],
   "source": [
    "#convert to csv\n",
    "deathsByState.to_csv('Datasets\\deathsByStateAndUrbanCode.csv')"
   ]
  }
 ],
 "metadata": {
  "kernelspec": {
   "display_name": "Python 3",
   "language": "python",
   "name": "python3"
  },
  "language_info": {
   "codemirror_mode": {
    "name": "ipython",
    "version": 3
   },
   "file_extension": ".py",
   "mimetype": "text/x-python",
   "name": "python",
   "nbconvert_exporter": "python",
   "pygments_lexer": "ipython3",
   "version": "3.10.7"
  },
  "orig_nbformat": 4,
  "vscode": {
   "interpreter": {
    "hash": "369f2c481f4da34e4445cda3fffd2e751bd1c4d706f27375911949ba6bb62e1c"
   }
  }
 },
 "nbformat": 4,
 "nbformat_minor": 2
}
