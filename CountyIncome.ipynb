{
 "cells": [
  {
   "cell_type": "code",
   "execution_count": 44,
   "metadata": {},
   "outputs": [],
   "source": [
    "import pandas as pd\n",
    "import numpy as np"
   ]
  },
  {
   "cell_type": "code",
   "execution_count": 45,
   "metadata": {},
   "outputs": [
    {
     "name": "stderr",
     "output_type": "stream",
     "text": [
      "/var/folders/ty/4x_62d5519v8j9nmmkvjd6h00000gn/T/ipykernel_51664/797231761.py:4: FutureWarning: The default value of regex will change from True to False in a future version.\n",
      "  df[\"County name\"] = df[\"County name\"].str.replace(\"\\sCounty\", \"\")\n",
      "/var/folders/ty/4x_62d5519v8j9nmmkvjd6h00000gn/T/ipykernel_51664/797231761.py:5: FutureWarning: The default value of regex will change from True to False in a future version.\n",
      "  df[\"County name\"] = df[\"County name\"].str.replace(\"\\sParish\", \"\")\n",
      "/var/folders/ty/4x_62d5519v8j9nmmkvjd6h00000gn/T/ipykernel_51664/797231761.py:6: FutureWarning: The default value of regex will change from True to False in a future version.\n",
      "  df[\"County name\"] = df[\"County name\"].str.replace(\"\\scity\", \"\")\n"
     ]
    }
   ],
   "source": [
    "df = pd.read_csv(\"Datasets/Provisional_COVID-19_Death_Counts_in_the_United_States_by_County.csv\")\n",
    "countyIncome = pd.read_csv(\"Datasets/countyincome.csv\")\n",
    "\n",
    "df[\"County name\"] = df[\"County name\"].str.replace(\"\\sCounty\", \"\")\n",
    "df[\"County name\"] = df[\"County name\"].str.replace(\"\\sParish\", \"\")\n",
    "df[\"County name\"] = df[\"County name\"].str.replace(\"\\scity\", \"\")\n",
    "\n",
    "df = df.rename({'County name': 'County'}, axis=1)"
   ]
  },
  {
   "cell_type": "code",
   "execution_count": 46,
   "metadata": {},
   "outputs": [],
   "source": [
    "countyIncome = countyIncome[countyIncome.Country != \"Alabama\"]\n",
    "countyIncome = countyIncome[countyIncome.Country != \"Alaska\"]\n",
    "countyIncome = countyIncome[countyIncome.Country != \"Arizona\"]\n",
    "countyIncome = countyIncome[countyIncome.Country != \"Arkansas\"]\n",
    "countyIncome = countyIncome[countyIncome.Country != \"California\"]\n",
    "countyIncome = countyIncome[countyIncome.Country != \"Colorado\"]\n",
    "countyIncome = countyIncome[countyIncome.Country != \"Connecticut\"]\n",
    "countyIncome = countyIncome[countyIncome.Country != \"Delaware\"]\n",
    "countyIncome = countyIncome[countyIncome.Country != \"Florida\"]\n",
    "countyIncome = countyIncome[countyIncome.Country != \"Georgia\"]\n",
    "countyIncome = countyIncome[countyIncome.Country != \"Hawaii\"]\n",
    "countyIncome = countyIncome[countyIncome.Country != \"Idaho\"]\n",
    "countyIncome = countyIncome[countyIncome.Country != \"Illinois\"]\n",
    "countyIncome = countyIncome[countyIncome.Country != \"Indiana\"]\n",
    "countyIncome = countyIncome[countyIncome.Country != \"Iowa\"]\n",
    "countyIncome = countyIncome[countyIncome.Country != \"Kansas\"]\n",
    "countyIncome = countyIncome[countyIncome.Country != \"Kentucky\"]\n",
    "countyIncome = countyIncome[countyIncome.Country != \"Louisiana\"]\n",
    "countyIncome = countyIncome[countyIncome.Country != \"Maine\"]\n",
    "countyIncome = countyIncome[countyIncome.Country != \"Maryland\"]\n",
    "countyIncome = countyIncome[countyIncome.Country != \"Massachusetts\"]\n",
    "countyIncome = countyIncome[countyIncome.Country != \"Michigan\"]\n",
    "countyIncome = countyIncome[countyIncome.Country != \"Minnesota\"]\n",
    "countyIncome = countyIncome[countyIncome.Country != \"Mississippi\"]\n",
    "countyIncome = countyIncome[countyIncome.Country != \"Missouri\"]\n",
    "countyIncome = countyIncome[countyIncome.Country != \"Montana\"]\n",
    "countyIncome = countyIncome[countyIncome.Country != \"Nebraska\"]\n",
    "countyIncome = countyIncome[countyIncome.Country != \"Nevada\"]\n",
    "countyIncome = countyIncome[countyIncome.Country != \"New Hampshire\"]\n",
    "countyIncome = countyIncome[countyIncome.Country != \"New Jersey\"]\n",
    "countyIncome = countyIncome[countyIncome.Country != \"New Mexico\"]\n",
    "countyIncome = countyIncome[countyIncome.Country != \"New York\"]\n",
    "countyIncome = countyIncome[countyIncome.Country != \"North Carolina\"]\n",
    "countyIncome = countyIncome[countyIncome.Country != \"North Dakota\"]\n",
    "countyIncome = countyIncome[countyIncome.Country != \"Ohio\"]\n",
    "countyIncome = countyIncome[countyIncome.Country != \"Oklahoma\"]\n",
    "countyIncome = countyIncome[countyIncome.Country != \"Oregon\"]\n",
    "countyIncome = countyIncome[countyIncome.Country != \"Pennsylvania\"]\n",
    "countyIncome = countyIncome[countyIncome.Country != \"Rhode Island\"]\n",
    "countyIncome = countyIncome[countyIncome.Country != \"South Carolina\"]\n",
    "countyIncome = countyIncome[countyIncome.Country != \"South Dakota\"]\n",
    "countyIncome = countyIncome[countyIncome.Country != \"Tennessee\"]\n",
    "countyIncome = countyIncome[countyIncome.Country != \"Texas\"]\n",
    "countyIncome = countyIncome[countyIncome.Country != \"Utah\"]\n",
    "countyIncome = countyIncome[countyIncome.Country != \"Vermont\"]\n",
    "countyIncome = countyIncome[countyIncome.Country != \"Virginia\"]\n",
    "countyIncome = countyIncome[countyIncome.Country != \"Washington\"]\n",
    "countyIncome = countyIncome[countyIncome.Country != \"West Virginia\"]\n",
    "countyIncome = countyIncome[countyIncome.Country != \"Wisconsin\"]\n",
    "countyIncome = countyIncome[countyIncome.Country != \"Wyoming\"]\n",
    "countyIncome = countyIncome[countyIncome.Country != \"United States\"]\n",
    "\n",
    "df = df[df.County != \"Alabama\"]\n",
    "df = df[df.County != \"Alaska\"]\n",
    "df = df[df.County != \"Arizona\"]\n",
    "df = df[df.County != \"Arkansas\"]\n",
    "df = df[df.County != \"California\"]\n",
    "df = df[df.County != \"Colorado\"]\n",
    "df = df[df.County != \"Connecticut\"]\n",
    "df = df[df.County != \"Delaware\"]\n",
    "df = df[df.County != \"Florida\"]\n",
    "df = df[df.County != \"Georgia\"]\n",
    "df = df[df.County != \"Hawaii\"]\n",
    "df = df[df.County != \"Idaho\"]\n",
    "df = df[df.County != \"Illinois\"]\n",
    "df = df[df.County != \"Indiana\"]\n",
    "df = df[df.County != \"Iowa\"]\n",
    "df = df[df.County != \"Kansas\"]\n",
    "df = df[df.County != \"Kentucky\"]\n",
    "df = df[df.County != \"Louisiana\"]\n",
    "df = df[df.County != \"Maine\"]\n",
    "df = df[df.County != \"Maryland\"]\n",
    "df = df[df.County != \"Massachusetts\"]\n",
    "df = df[df.County != \"Michigan\"]\n",
    "df = df[df.County != \"Minnesota\"]\n",
    "df = df[df.County != \"Mississippi\"]\n",
    "df = df[df.County != \"Missouri\"]\n",
    "df = df[df.County != \"Montana\"]\n",
    "df = df[df.County != \"Nebraska\"]\n",
    "df = df[df.County != \"Nevada\"]\n",
    "df = df[df.County != \"New Hampshire\"]\n",
    "df = df[df.County != \"New Jersey\"]\n",
    "df = df[df.County != \"New Mexico\"]\n",
    "df = df[df.County != \"New York\"]\n",
    "df = df[df.County != \"North Carolina\"]\n",
    "df = df[df.County != \"North Dakota\"]\n",
    "df = df[df.County != \"Ohio\"]\n",
    "df = df[df.County != \"Oklahoma\"]\n",
    "df = df[df.County != \"Oregon\"]\n",
    "df = df[df.County != \"Pennsylvania\"]\n",
    "df = df[df.County != \"Rhode Island\"]\n",
    "df = df[df.County != \"South Carolina\"]\n",
    "df = df[df.County != \"South Dakota\"]\n",
    "df = df[df.County != \"Tennessee\"]\n",
    "df = df[df.County != \"Texas\"]\n",
    "df = df[df.County != \"Utah\"]\n",
    "df = df[df.County != \"Vermont\"]\n",
    "df = df[df.County != \"Virginia\"]\n",
    "df = df[df.County != \"Washington\"]\n",
    "df = df[df.County != \"West Virginia\"]\n",
    "df = df[df.County != \"Wisconsin\"]\n",
    "df = df[df.County != \"Wyoming\"]\n",
    "df = df[df.County != \"United States\"]\n",
    "\n",
    "\n",
    "countyIncome = countyIncome.replace('Valdez-Cordova Census Area2', 'Valdez-Cordova Census Area')\n",
    "countyIncome = countyIncome.replace('Lagrange', 'LaGrange')\n",
    "countyIncome = countyIncome.replace('Doña Ana', 'Dona Ana')\n",
    "countyIncome = countyIncome.replace('Petersburg Borough', 'Petersburg Census Area')\n",
    "df = df.replace('Wade Hampton Census Area', 'Kusilvak Census Area')\n",
    "\n",
    "countyIncome = countyIncome.assign(Country = countyIncome['Country'].str.split(',')).explode('Country')\n",
    "countyIncome = countyIncome.assign(Country = countyIncome['Country'].str.split('+')).explode('Country')\n",
    "countyIncome['Country'] = countyIncome['Country'].str.strip()"
   ]
  },
  {
   "cell_type": "code",
   "execution_count": 47,
   "metadata": {},
   "outputs": [],
   "source": [
    "#np.setdiff1d(df[\"County\"], countyIncome['Country'])\n",
    "#np.setdiff1d(countyIncome['Country'], df[\"County\"])\n",
    "countyIncome = countyIncome.rename({'Country': 'County'}, axis=1)"
   ]
  },
  {
   "cell_type": "code",
   "execution_count": 48,
   "metadata": {},
   "outputs": [],
   "source": [
    "incomeAndDeaths = df.merge(countyIncome, on='County', how='inner')\n",
    "#incomeAndDeaths.to_csv(\"Covid Deaths by County Income.csv\")\n",
    "\n",
    "incomeAndDeaths2 = incomeAndDeaths[['2019', '2020', '2021', 'Deaths involving COVID-19']]"
   ]
  },
  {
   "cell_type": "code",
   "execution_count": 49,
   "metadata": {},
   "outputs": [],
   "source": [
    "incomeAndDeaths2 = incomeAndDeaths2.dropna(axis=0)\n",
    "incomeAndDeaths2['2020'] = incomeAndDeaths2['2020'].str.extract('(\\d+)', expand=False)\n",
    "incomeAndDeaths2['2021'] = incomeAndDeaths2['2021'].str.extract('(\\d+)', expand=False)\n",
    "\n",
    "incomeAndDeaths2['2020'] = incomeAndDeaths2['2020'].astype(int)\n",
    "incomeAndDeaths2['2021'] = incomeAndDeaths2['2021'].astype(int)"
   ]
  },
  {
   "cell_type": "code",
   "execution_count": 50,
   "metadata": {},
   "outputs": [
    {
     "data": {
      "image/png": "[encoded data removed]",
      "text/plain": [
       "<Figure size 432x288 with 2 Axes>"
      ]
     },
     "metadata": {
      "needs_background": "light"
     },
     "output_type": "display_data"
    }
   ],
   "source": [
    "import seaborn as sn\n",
    "import matplotlib.pyplot as plt\n",
    "\n",
    "corr_mat = incomeAndDeaths2.corr()\n",
    "sn.heatmap(corr_mat, annot=True)\n",
    "plt.show()"
   ]
  }
 ],
 "metadata": {
  "kernelspec": {
   "display_name": "Python 3.9.7 ('base')",
   "language": "python",
   "name": "python3"
  },
  "language_info": {
   "codemirror_mode": {
    "name": "ipython",
    "version": 3
   },
   "file_extension": ".py",
   "mimetype": "text/x-python",
   "name": "python",
   "nbconvert_exporter": "python",
   "pygments_lexer": "ipython3",
   "version": "3.9.7"
  },
  "orig_nbformat": 4,
  "vscode": {
   "interpreter": {
    "hash": "1dbebb0a39886322f7c7bc772f59522a627115a5e09c8dd3600c7fb85e30db06"
   }
  }
 },
 "nbformat": 4,
 "nbformat_minor": 2
}
