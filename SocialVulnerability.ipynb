{
 "cells": [
  {
   "cell_type": "code",
   "execution_count": 42,
   "metadata": {},
   "outputs": [],
   "source": [
    "import pandas as pd"
   ]
  },
  {
   "cell_type": "code",
   "execution_count": 43,
   "metadata": {},
   "outputs": [],
   "source": [
    "df = pd.read_csv('Datasets\\Provisional_COVID-19_Deaths_by_Week_and_County_Social_Vulnerability_Index.csv')\n",
    "df = df[['MMWR Year', 'Social Vulnerability Index', 'COVID-19 Deaths']]"
   ]
  },
  {
   "cell_type": "code",
   "execution_count": 44,
   "metadata": {},
   "outputs": [],
   "source": [
    "df = df.groupby(['MMWR Year', 'Social Vulnerability Index']).mean()"
   ]
  },
  {
   "cell_type": "code",
   "execution_count": 45,
   "metadata": {},
   "outputs": [],
   "source": [
    "df = df.reset_index()"
   ]
  },
  {
   "cell_type": "code",
   "execution_count": 46,
   "metadata": {},
   "outputs": [
    {
     "data": {
      "text/html": [
       "<div>\n",
       "<style scoped>\n",
       "    .dataframe tbody tr th:only-of-type {\n",
       "        vertical-align: middle;\n",
       "    }\n",
       "\n",
       "    .dataframe tbody tr th {\n",
       "        vertical-align: top;\n",
       "    }\n",
       "\n",
       "    .dataframe thead th {\n",
       "        text-align: right;\n",
       "    }\n",
       "</style>\n",
       "<table border=\"1\" class=\"dataframe\">\n",
       "  <thead>\n",
       "    <tr style=\"text-align: right;\">\n",
       "      <th></th>\n",
       "      <th>MMWR Year</th>\n",
       "      <th>Social Vulnerability Index</th>\n",
       "      <th>COVID-19 Deaths</th>\n",
       "    </tr>\n",
       "  </thead>\n",
       "  <tbody>\n",
       "    <tr>\n",
       "      <th>0</th>\n",
       "      <td>2020</td>\n",
       "      <td>All U.S. Counties</td>\n",
       "      <td>7411.603774</td>\n",
       "    </tr>\n",
       "    <tr>\n",
       "      <th>1</th>\n",
       "      <td>2020</td>\n",
       "      <td>High Vulnerability</td>\n",
       "      <td>3388.260870</td>\n",
       "    </tr>\n",
       "    <tr>\n",
       "      <th>2</th>\n",
       "      <td>2020</td>\n",
       "      <td>Low Vulnerability</td>\n",
       "      <td>1835.285714</td>\n",
       "    </tr>\n",
       "    <tr>\n",
       "      <th>3</th>\n",
       "      <td>2020</td>\n",
       "      <td>Moderate Vulnerability</td>\n",
       "      <td>2999.204082</td>\n",
       "    </tr>\n",
       "    <tr>\n",
       "      <th>4</th>\n",
       "      <td>2021</td>\n",
       "      <td>All U.S. Counties</td>\n",
       "      <td>8803.192308</td>\n",
       "    </tr>\n",
       "    <tr>\n",
       "      <th>5</th>\n",
       "      <td>2021</td>\n",
       "      <td>High Vulnerability</td>\n",
       "      <td>3565.923077</td>\n",
       "    </tr>\n",
       "    <tr>\n",
       "      <th>6</th>\n",
       "      <td>2021</td>\n",
       "      <td>Low Vulnerability</td>\n",
       "      <td>1791.692308</td>\n",
       "    </tr>\n",
       "    <tr>\n",
       "      <th>7</th>\n",
       "      <td>2021</td>\n",
       "      <td>Moderate Vulnerability</td>\n",
       "      <td>3444.557692</td>\n",
       "    </tr>\n",
       "    <tr>\n",
       "      <th>8</th>\n",
       "      <td>2022</td>\n",
       "      <td>All U.S. Counties</td>\n",
       "      <td>4677.269231</td>\n",
       "    </tr>\n",
       "    <tr>\n",
       "      <th>9</th>\n",
       "      <td>2022</td>\n",
       "      <td>High Vulnerability</td>\n",
       "      <td>1710.192308</td>\n",
       "    </tr>\n",
       "    <tr>\n",
       "      <th>10</th>\n",
       "      <td>2022</td>\n",
       "      <td>Low Vulnerability</td>\n",
       "      <td>1111.057692</td>\n",
       "    </tr>\n",
       "    <tr>\n",
       "      <th>11</th>\n",
       "      <td>2022</td>\n",
       "      <td>Moderate Vulnerability</td>\n",
       "      <td>1855.365385</td>\n",
       "    </tr>\n",
       "    <tr>\n",
       "      <th>12</th>\n",
       "      <td>2023</td>\n",
       "      <td>All U.S. Counties</td>\n",
       "      <td>2438.857143</td>\n",
       "    </tr>\n",
       "    <tr>\n",
       "      <th>13</th>\n",
       "      <td>2023</td>\n",
       "      <td>High Vulnerability</td>\n",
       "      <td>817.571429</td>\n",
       "    </tr>\n",
       "    <tr>\n",
       "      <th>14</th>\n",
       "      <td>2023</td>\n",
       "      <td>Low Vulnerability</td>\n",
       "      <td>656.428571</td>\n",
       "    </tr>\n",
       "    <tr>\n",
       "      <th>15</th>\n",
       "      <td>2023</td>\n",
       "      <td>Moderate Vulnerability</td>\n",
       "      <td>964.571429</td>\n",
       "    </tr>\n",
       "  </tbody>\n",
       "</table>\n",
       "</div>"
      ],
      "text/plain": [
       "    MMWR Year Social Vulnerability Index  COVID-19 Deaths\n",
       "0        2020          All U.S. Counties      7411.603774\n",
       "1        2020         High Vulnerability      3388.260870\n",
       "2        2020          Low Vulnerability      1835.285714\n",
       "3        2020     Moderate Vulnerability      2999.204082\n",
       "4        2021          All U.S. Counties      8803.192308\n",
       "5        2021         High Vulnerability      3565.923077\n",
       "6        2021          Low Vulnerability      1791.692308\n",
       "7        2021     Moderate Vulnerability      3444.557692\n",
       "8        2022          All U.S. Counties      4677.269231\n",
       "9        2022         High Vulnerability      1710.192308\n",
       "10       2022          Low Vulnerability      1111.057692\n",
       "11       2022     Moderate Vulnerability      1855.365385\n",
       "12       2023          All U.S. Counties      2438.857143\n",
       "13       2023         High Vulnerability       817.571429\n",
       "14       2023          Low Vulnerability       656.428571\n",
       "15       2023     Moderate Vulnerability       964.571429"
      ]
     },
     "execution_count": 46,
     "metadata": {},
     "output_type": "execute_result"
    }
   ],
   "source": [
    "df"
   ]
  },
  {
   "cell_type": "code",
   "execution_count": 47,
   "metadata": {},
   "outputs": [],
   "source": [
    "df.to_csv('Datasets/SocialVulnerabilityIndex.csv')"
   ]
  }
 ],
 "metadata": {
  "kernelspec": {
   "display_name": "Python 3",
   "language": "python",
   "name": "python3"
  },
  "language_info": {
   "codemirror_mode": {
    "name": "ipython",
    "version": 3
   },
   "file_extension": ".py",
   "mimetype": "text/x-python",
   "name": "python",
   "nbconvert_exporter": "python",
   "pygments_lexer": "ipython3",
   "version": "3.10.10"
  },
  "orig_nbformat": 4,
  "vscode": {
   "interpreter": {
    "hash": "5bc44a81280462d6646bd1f61fae65ddb37728c7efc44b8a0763fb19df347453"
   }
  }
 },
 "nbformat": 4,
 "nbformat_minor": 2
}
